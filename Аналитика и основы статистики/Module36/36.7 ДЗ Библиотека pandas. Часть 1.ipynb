{
  "nbformat": 4,
  "nbformat_minor": 0,
  "metadata": {
    "kernelspec": {
      "display_name": "Python 3",
      "language": "python",
      "name": "python3"
    },
    "language_info": {
      "codemirror_mode": {
        "name": "ipython",
        "version": 3
      },
      "file_extension": ".py",
      "mimetype": "text/x-python",
      "name": "python",
      "nbconvert_exporter": "python",
      "pygments_lexer": "ipython3",
      "version": "3.6.3"
    },
    "colab": {
      "name": "ДЗ_Библиотека pandas: часть 1.ipynb",
      "provenance": [],
      "collapsed_sections": []
    }
  },
  "cells": [
    {
      "cell_type": "markdown",
      "metadata": {
        "id": "TGSlEOmerPnD"
      },
      "source": [
        "# Библиотека `pandas`: часть 1\n",
        "\n",
        "## Домашнее задание \n",
        "\n",
        "### Описание домашнего задания и формат сдачи\n",
        "\n",
        "В домашнем задании необходимо решить предложенные задачи по программированию – вписать свой код в ячейки после условий задач вместо комментария `### YOUR CODE HERE ###` в файле *homework-pandas1.ipynb* и сохранить изменения, используя опцию *Save and Checkpoint* из вкладки меню *File* или кнопку *Save and Checkpoint* на панели инструментов. Итоговый файл в формате `.ipynb` (файл Jupyter Notebook) необходимо загрузить в личный кабинет обучающей онлайн платформы Skillbox (https://go.skillbox.ru/) и отправить на проверку."
      ]
    },
    {
      "cell_type": "markdown",
      "metadata": {
        "id": "NExy7dE1rPnE"
      },
      "source": [
        "### Задание 1\n",
        "\n",
        "Загрузить массив `NumPy` из файла `\"arr_pandas.npy\"` (как в задании к предыдущему модулю) и преобразовать его в датафрейм. Массив содержит данные по результатам соревнований Scottish Hill Races в 2000 году (полное описание на английском языке можно посмотреть на [странице](https://vincentarelbundock.github.io/Rdatasets/doc/DAAG/races2000.html) с документацией по исходному файлу с данными).\n",
        "\n",
        "**Подсказка (преобразование в датафрейм):**"
      ]
    },
    {
      "cell_type": "code",
      "metadata": {
        "id": "KuLeAnNQrPnF"
      },
      "source": [
        "dat = pd.DataFrame(arr)  # arr - массив NumPy из файла\n",
        "# Если при загрузке файла вы столкнетесь с ошибкой, в которой будет упомянут параметр allow_pickle=False\n",
        "# То попробуйте явно задать значение этого параметра - allow_pickle=True при вызове функции загрузки файла"
      ],
      "execution_count": null,
      "outputs": []
    },
    {
      "cell_type": "code",
      "metadata": {
        "id": "3nrf_loFrPnI"
      },
      "source": [
        "### YOUR CODE HERE ###"
      ],
      "execution_count": null,
      "outputs": []
    },
    {
      "cell_type": "markdown",
      "metadata": {
        "id": "DKJF6IXCrPnL"
      },
      "source": [
        "### Задание 2\n",
        "\n",
        "Определить, сколько в датафрейме строк и столбцов. Привести код и указать ответ в виде текста или комментария к коду."
      ]
    },
    {
      "cell_type": "code",
      "metadata": {
        "id": "8b-UkWU8rPnL"
      },
      "source": [
        "### YOUR CODE HERE ###"
      ],
      "execution_count": null,
      "outputs": []
    },
    {
      "cell_type": "markdown",
      "metadata": {
        "id": "FGDqgiAxrPnP"
      },
      "source": [
        "### Задание 3\n",
        "\n",
        "Присвоить столбцам следующие названия (указаны с пояснениями): \n",
        "\n",
        "* `id`: id участника\n",
        "* `dist`: расстояние в милях (по карте)\n",
        "* `climb`: высота, достигнутая на маршруте (в сумме за весь маршрут, в футах)\n",
        "* `time`: время (в часах)\n",
        "* `timef`: время для женщин (в часах)\n",
        "* `type`: тип гонки (*hill*, *marathon*, *relay*, *uphill* or *other*)"
      ]
    },
    {
      "cell_type": "code",
      "metadata": {
        "id": "NY-269FGrPnQ"
      },
      "source": [
        "### YOUR CODE HERE ###"
      ],
      "execution_count": null,
      "outputs": []
    },
    {
      "cell_type": "markdown",
      "metadata": {
        "id": "zO-W3sS1rPnT"
      },
      "source": [
        "### Задание 4\n",
        "\n",
        "Вывести на экран значение высоты, достигнутой на маршруте участником *Norman's Law*."
      ]
    },
    {
      "cell_type": "code",
      "metadata": {
        "id": "WD7RsfpIrPnU"
      },
      "source": [
        "### YOUR CODE HERE ###"
      ],
      "execution_count": null,
      "outputs": []
    },
    {
      "cell_type": "markdown",
      "metadata": {
        "id": "FWSvXwDsrPnX"
      },
      "source": [
        "### Задание 5\n",
        "Вывести на экран значения показателей `dist`, `climb` , `time` для первых 10 участников."
      ]
    },
    {
      "cell_type": "code",
      "metadata": {
        "id": "Rx8FCk-1rPnX"
      },
      "source": [
        "### YOUR CODE HERE ###"
      ],
      "execution_count": null,
      "outputs": []
    },
    {
      "cell_type": "markdown",
      "metadata": {
        "id": "hE_DuG3zrPnb"
      },
      "source": [
        "### Задание 6\n",
        "\n",
        "Вывести на экран сводную информацию по датафрейму, которая включает типы всех столбцов. Сколько столбцов типа `float` в датафрейме? Привести ответ на вопрос в виде текста или комментария к коду."
      ]
    },
    {
      "cell_type": "code",
      "metadata": {
        "id": "GPMKlBTArPnb"
      },
      "source": [
        "### YOUR CODE HERE ###"
      ],
      "execution_count": null,
      "outputs": []
    },
    {
      "cell_type": "markdown",
      "metadata": {
        "id": "HZk0YywrrPne"
      },
      "source": [
        "### Задание 7\n",
        "\n",
        "Выбрать строки, которые соответствуют участникам эстафеты (*relay*)."
      ]
    },
    {
      "cell_type": "code",
      "metadata": {
        "id": "oVotUFlMrPne"
      },
      "source": [
        "### YOUR CODE HERE ###"
      ],
      "execution_count": null,
      "outputs": []
    },
    {
      "cell_type": "markdown",
      "metadata": {
        "id": "kzFdcYCCrPnh"
      },
      "source": [
        "### Задание 8\n",
        "\n",
        "Выбрать строки, которые соответствуют участникам гонки в холмах (*hill*), которые в сумме достигли высоты более 1000 футов. Посчитать, сколько таких участников."
      ]
    },
    {
      "cell_type": "code",
      "metadata": {
        "id": "QqaztdTGrPni"
      },
      "source": [
        "### YOUR CODE HERE ###"
      ],
      "execution_count": null,
      "outputs": []
    },
    {
      "cell_type": "markdown",
      "metadata": {
        "id": "DpE3J3EgrPnk"
      },
      "source": [
        "### Задание 9\n",
        "\n",
        "Выбрать строки, соответствующие участникам, которые либо достигли высоты более 4000 футов, либо потратили менее 0.5 часов."
      ]
    },
    {
      "cell_type": "code",
      "metadata": {
        "id": "PLoGXxynrPnk"
      },
      "source": [
        "### YOUR CODE HERE ###"
      ],
      "execution_count": null,
      "outputs": []
    },
    {
      "cell_type": "markdown",
      "metadata": {
        "id": "GL_JBYmarPnn"
      },
      "source": [
        "### Задание 10\n",
        "\n",
        "Создать столбец `time_min`, который содержит время маршрута, измеренное в минутах."
      ]
    },
    {
      "cell_type": "code",
      "metadata": {
        "id": "Z9BCFTSsrPno"
      },
      "source": [
        "### YOUR CODE HERE ###"
      ],
      "execution_count": null,
      "outputs": []
    },
    {
      "cell_type": "markdown",
      "metadata": {
        "id": "AlVDMiverPnq"
      },
      "source": [
        "### Задание 11\n",
        "\n",
        "Создать столбец `year` с годом соревнований (везде 2000 год). Внимание: столбец с годом должен быть числовым (целочисленным)."
      ]
    },
    {
      "cell_type": "code",
      "metadata": {
        "id": "NZVwqWRbrPnq"
      },
      "source": [
        "### YOUR CODE HERE ###"
      ],
      "execution_count": null,
      "outputs": []
    }
  ]
}